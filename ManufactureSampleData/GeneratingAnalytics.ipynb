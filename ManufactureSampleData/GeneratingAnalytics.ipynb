{
 "cells": [
  {
   "cell_type": "code",
   "execution_count": 19,
   "metadata": {},
   "outputs": [],
   "source": [
    "# import libraries\n",
    "import numpy as np\n",
    "import pandas as pd\n",
    "import folium as fol\n",
    "import csv\n",
    "import os\n",
    "\n",
    "# Global values and constants\n",
    "\n",
    "# open and read input csv\n",
    "csv_path = \"SubdivisionPersons.csv\"\n",
    "df_detailed = pd.read_csv(csv_path)\n",
    "\n",
    "latitude = 24.77\n",
    "longitude = 88.42\n",
    "zoom_level = 7\n",
    "wbengal_map = fol.Map(location=[latitude, longitude], zoom_start = zoom_level, tiles='Mapbox bright')\n",
    "wbengal_geo = r'geojsonFiles/WestBengal.geojson'\n",
    "\n",
    "df_dist_centres=pd.read_csv('geojsonFiles\\DistrictCentrePoints.csv')\n",
    "folgrp = fol.FeatureGroup(name=\"District Centres\")\n",
    "\n",
    "df_district_population = df_detailed[['District', 'PersonName']]\n",
    "df_district_population = df_district_population.groupby(['District']).count().reset_index()\n",
    "df_district_population.rename(columns={'PersonName':'Population'}, inplace=True)"
   ]
  },
  {
   "cell_type": "code",
   "execution_count": 20,
   "metadata": {},
   "outputs": [
    {
     "name": "stderr",
     "output_type": "stream",
     "text": [
      "C:\\Users\\Sydney\\Anaconda3\\lib\\site-packages\\pandas\\core\\indexing.py:194: SettingWithCopyWarning: \n",
      "A value is trying to be set on a copy of a slice from a DataFrame\n",
      "\n",
      "See the caveats in the documentation: http://pandas.pydata.org/pandas-docs/stable/indexing.html#indexing-view-versus-copy\n",
      "  self._setitem_with_indexer(indexer, value)\n"
     ]
    }
   ],
   "source": [
    "fname = 'westbengal2018.html'\n",
    "if (os.path.isfile(fname)==False):\n",
    "    df_district_registered2018 = df_detailed[['District', 'PersonName', 'RegisteredYesNo']]\n",
    "    df_district_registered2018 = df_district_registered2018.groupby(['District', 'RegisteredYesNo']).count().reset_index()\n",
    "    df_district_registered2018 = df_district_registered2018.loc[df_district_registered2018['RegisteredYesNo'] == 'Yes'].reset_index()\n",
    "    df_district_registered2018.rename(columns={'PersonName':'Registered2018'}, inplace=True)\n",
    "    df_district_registered2018 = df_district_registered2018[['District', 'Registered2018']]\n",
    "    for index, row in df_district_population.iterrows():\n",
    "        for index_current_yr, row_current_yr in df_district_registered2018.iterrows():\n",
    "            if df_district_population.District.iloc[index] == df_district_registered2018.District.iloc[index_current_yr]:\n",
    "                df_district_registered2018.Registered2018.iloc[index_current_yr] = df_district_registered2018.Registered2018.iloc[index_current_yr] / df_district_population.Population.iloc[index] * 100\n",
    "    df_district_registered2018.loc[-1] = ['A', 1]\n",
    "    df_district_registered2018.loc[-2] = ['B', 99]\n",
    "\n",
    "    wbengal_map.choropleth(\n",
    "        geo_data=wbengal_geo,\n",
    "        data=df_district_registered2018,\n",
    "        columns=['District', 'Registered2018'],\n",
    "        key_on='feature.properties.District',\n",
    "        fill_color='YlOrRd', \n",
    "        fill_opacity=0.7, \n",
    "        line_opacity=0.2,\n",
    "        legend_name='Registration Percentage'\n",
    "    )\n",
    "\n",
    "    for index, row in df_dist_centres.iterrows():\n",
    "        if df_dist_centres.District.iloc[index] == \"Birbhum\":\n",
    "            hyperString = '<a href=\"birbhum.html\">' + df_dist_centres.District.iloc[index] + '</a>'\n",
    "        else:\n",
    "            hyperString = '<a href=\"http://www.fluxionbits.com\">' + df_dist_centres.District.iloc[index] + '</a>'\n",
    "        folgrp.add_child(fol.Marker(location=[df_dist_centres.Lon.iloc[index],df_dist_centres.Lat.iloc[index]],\n",
    "                               popup=(fol.Popup(hyperString)),icon=fol.Icon(color='green')))\n",
    "    wbengal_map.add_child(folgrp)\n",
    "\n",
    "    wbengal_map.save(outfile=fname)\n",
    "else:\n",
    "    print(fname,': File already exists!')"
   ]
  },
  {
   "cell_type": "code",
   "execution_count": 21,
   "metadata": {},
   "outputs": [
    {
     "name": "stderr",
     "output_type": "stream",
     "text": [
      "C:\\Users\\Sydney\\Anaconda3\\lib\\site-packages\\pandas\\core\\indexing.py:194: SettingWithCopyWarning: \n",
      "A value is trying to be set on a copy of a slice from a DataFrame\n",
      "\n",
      "See the caveats in the documentation: http://pandas.pydata.org/pandas-docs/stable/indexing.html#indexing-view-versus-copy\n",
      "  self._setitem_with_indexer(indexer, value)\n"
     ]
    }
   ],
   "source": [
    "fname = 'westbengal2017.html'\n",
    "if (os.path.isfile(fname)==False):\n",
    "    df_district_registered2017 = df_detailed[['District', 'PersonName', 'Registered2017']]\n",
    "    df_district_registered2017 = df_district_registered2017.groupby(['District', 'Registered2017']).count().reset_index()\n",
    "    df_district_registered2017 = df_district_registered2017.loc[df_district_registered2017['Registered2017'] == 'Yes'].reset_index()\n",
    "    df_district_registered2017.rename(columns={'PersonName':'Registered2017', 'Registered2017':'Yes'}, inplace=True)\n",
    "    df_district_registered2017 = df_district_registered2017[['District', 'Registered2017']]\n",
    "    for index, row in df_district_population.iterrows():\n",
    "        for index_current_yr, row_current_yr in df_district_registered2017.iterrows():\n",
    "            if df_district_population.District.iloc[index] == df_district_registered2017.District.iloc[index_current_yr]:\n",
    "                df_district_registered2017.Registered2017.iloc[index_current_yr] = df_district_registered2017.Registered2017.iloc[index_current_yr] / df_district_population.Population.iloc[index] * 100\n",
    "    df_district_registered2017.loc[-1] = ['A', 1]\n",
    "    df_district_registered2017.loc[-2] = ['B', 99]\n",
    "\n",
    "    wbengal_map.choropleth(\n",
    "        geo_data=wbengal_geo,\n",
    "        data=df_district_registered2017,\n",
    "        columns=['District', 'Registered2017'],\n",
    "        key_on='feature.properties.District',\n",
    "        fill_color='YlOrRd', \n",
    "        fill_opacity=0.7, \n",
    "        line_opacity=0.2,\n",
    "    )\n",
    "\n",
    "    for index, row in df_dist_centres.iterrows():\n",
    "        hyperString = '<a href=\"http://www.fluxionbits.com\">' + df_dist_centres.District.iloc[index] + '</a>'\n",
    "        folgrp.add_child(fol.Marker(location=[df_dist_centres.Lon.iloc[index],df_dist_centres.Lat.iloc[index]],\n",
    "                               popup=(fol.Popup(hyperString)),icon=fol.Icon(color='green')))\n",
    "    wbengal_map.add_child(folgrp)\n",
    "\n",
    "    wbengal_map.save(outfile=fname)\n",
    "else:\n",
    "    print(fname,': File already exists!')"
   ]
  },
  {
   "cell_type": "code",
   "execution_count": 22,
   "metadata": {},
   "outputs": [
    {
     "name": "stderr",
     "output_type": "stream",
     "text": [
      "C:\\Users\\Sydney\\Anaconda3\\lib\\site-packages\\pandas\\core\\indexing.py:194: SettingWithCopyWarning: \n",
      "A value is trying to be set on a copy of a slice from a DataFrame\n",
      "\n",
      "See the caveats in the documentation: http://pandas.pydata.org/pandas-docs/stable/indexing.html#indexing-view-versus-copy\n",
      "  self._setitem_with_indexer(indexer, value)\n"
     ]
    }
   ],
   "source": [
    "fname = 'westbengal2016.html'\n",
    "if (os.path.isfile(fname)==False):\n",
    "    df_district_registered2016 = df_detailed[['District', 'PersonName', 'Registered2016']]\n",
    "    df_district_registered2016 = df_district_registered2016.groupby(['District', 'Registered2016']).count().reset_index()\n",
    "    df_district_registered2016 = df_district_registered2016.loc[df_district_registered2016['Registered2016'] == 'Yes'].reset_index()\n",
    "    df_district_registered2016.rename(columns={'PersonName':'Registered2016', 'Registered2016':'Yes'}, inplace=True)\n",
    "    df_district_registered2016 = df_district_registered2016[['District', 'Registered2016']]\n",
    "    for index, row in df_district_population.iterrows():\n",
    "        for index_current_yr, row_current_yr in df_district_registered2016.iterrows():\n",
    "            if df_district_population.District.iloc[index] == df_district_registered2016.District.iloc[index_current_yr]:\n",
    "                df_district_registered2016.Registered2016.iloc[index_current_yr] = df_district_registered2016.Registered2016.iloc[index_current_yr] / df_district_population.Population.iloc[index] * 100\n",
    "    df_district_registered2016.loc[-1] = ['A', 1]\n",
    "    df_district_registered2016.loc[-2] = ['B', 99]\n",
    "\n",
    "    wbengal_map.choropleth(\n",
    "        geo_data=wbengal_geo,\n",
    "        data=df_district_registered2016,\n",
    "        columns=['District', 'Registered2016'],\n",
    "        key_on='feature.properties.District',\n",
    "        fill_color='YlOrRd', \n",
    "        fill_opacity=0.7, \n",
    "        line_opacity=0.2,\n",
    "    )\n",
    "\n",
    "    for index, row in df_dist_centres.iterrows():\n",
    "        hyperString = '<a href=\"http://www.fluxionbits.com\">' + df_dist_centres.District.iloc[index] + '</a>'\n",
    "        folgrp.add_child(fol.Marker(location=[df_dist_centres.Lon.iloc[index],df_dist_centres.Lat.iloc[index]],\n",
    "                               popup=(fol.Popup(hyperString)),icon=fol.Icon(color='green')))\n",
    "    wbengal_map.add_child(folgrp)\n",
    "\n",
    "    wbengal_map.save(outfile=fname)\n",
    "else:\n",
    "    print(fname,' : File already exists!')"
   ]
  },
  {
   "cell_type": "code",
   "execution_count": null,
   "metadata": {},
   "outputs": [],
   "source": []
  },
  {
   "cell_type": "code",
   "execution_count": null,
   "metadata": {},
   "outputs": [],
   "source": []
  }
 ],
 "metadata": {
  "kernelspec": {
   "display_name": "Python 3",
   "language": "python",
   "name": "python3"
  },
  "language_info": {
   "codemirror_mode": {
    "name": "ipython",
    "version": 3
   },
   "file_extension": ".py",
   "mimetype": "text/x-python",
   "name": "python",
   "nbconvert_exporter": "python",
   "pygments_lexer": "ipython3",
   "version": "3.6.4"
  }
 },
 "nbformat": 4,
 "nbformat_minor": 2
}
