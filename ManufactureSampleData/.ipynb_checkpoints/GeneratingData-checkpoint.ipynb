{
 "cells": [
  {
   "cell_type": "markdown",
   "metadata": {},
   "source": [
    "#### ---------------------------------------------------------------------------------------------------------------\n",
    "# Generating Train and Test Data \n",
    "### How likely is a person to register in SSY Scheme\n",
    "#### ---------------------------------------------------------------------------------------------------------------\n",
    "#### Description:\n",
    "This program will be generating simulation of Train and Test Data on how likely a person from a given occupation, of a specific age group, from a specific location etc. (we can increase / change these parameters later as and when required) is to register in SSY Scheme. This will work on existing data and give the probbilities of registering in the scheme.\n",
    "\n",
    "The machine learning code that will be written next, is supposed to learn the inherent pattern of this probability of registration depending on the attributes occupation, age group and specific location etc.\n",
    "\n",
    "Further analytics and chorpleth BI reporting can be generated from this dataset."
   ]
  },
  {
   "cell_type": "markdown",
   "metadata": {},
   "source": [
    "# Initialization Block\n",
    "### Assign global constants, read locations & create empty rows for each person"
   ]
  },
  {
   "cell_type": "code",
   "execution_count": 38,
   "metadata": {},
   "outputs": [],
   "source": [
    "# import libraries\n",
    "import numpy as np\n",
    "import pandas as pd\n",
    "import csv\n",
    "import random\n",
    "import string\n",
    "from random import *\n",
    "\n",
    "# Global values and constants\n",
    "# min_ppl_in_Subdiv & max_ppl_in_Subdiv can be altered to get more data.\n",
    "# Population in a subdivition is a random number in between. Increasing these parameters may increase the processing time\n",
    "min_char_in_name = 4\n",
    "max_char_in_name = 6\n",
    "min_ppl_in_Subdiv = 3\n",
    "max_ppl_in_Subdiv = 4\n",
    "# probability and randomness factors must be soft-coded here as a best practice.\n",
    "# This has been traded of here for the sake of quick results.\n",
    "# $$$$$$$$$$$$$$$$$$$$$$$$$$$$$$$$$$$$$$$$$$$$$$$$$$$$$$$$$$$$$$$$$$$$$$$$$$$$$$$$$$$$$$$$$$$$$$$$$$$$$$$$$$$$\n",
    "# $$$$$$$$$ These are the factors the machine learning code has to learn and predict on this basis $$$$$$$$$$$\n",
    "# $$$$$$$$$$$$$$$$$$$$$$$$$$$$$$$$$$$$$$$$$$$$$$$$$$$$$$$$$$$$$$$$$$$$$$$$$$$$$$$$$$$$$$$$$$$$$$$$$$$$$$$$$$$$\n",
    "\n",
    "# open and read input csv\n",
    "csv_path = \"SubdivisionList.csv\"\n",
    "df_subdivisions = pd.read_csv(csv_path)\n",
    "\n",
    "# define intermediate dataframes\n",
    "df_location_pref = pd.DataFrame(columns = ['DistCode', 'District', 'Subdivision', 'LocationLikelyness'])\n",
    "df_persons = pd.DataFrame(columns = ['DistCode', 'District', 'Subdivision', 'PersonName', 'Gender', 'Age', 'WorkerType',\n",
    "                                        'WorkerTypeLikelyness', 'AgeLikelyness', 'GenderLikelyness', 'LocationLikelyness',\n",
    "                                        'Likelyness', 'RegisteredYesNo', 'Registered2017', 'Registered2016'])"
   ]
  },
  {
   "cell_type": "markdown",
   "metadata": {},
   "source": [
    "# Populate intermediate data\n",
    "### Inject parameter based likelyness to register"
   ]
  },
  {
   "cell_type": "code",
   "execution_count": 39,
   "metadata": {},
   "outputs": [],
   "source": [
    "# Location bases likelyness to register\n",
    "for index, row in df_subdivisions.iterrows():\n",
    "    \n",
    "    df_location_pref = df_location_pref.append(df_subdivisions.iloc[[index]], ignore_index=True)\n",
    "    \n",
    "    if index%4 == 0:\n",
    "        # for 25% of the data, Location bases likelyness to register will be high\n",
    "        df_location_pref.LocationLikelyness.iloc[[index]] = 0.8 + 0.2 * np.random.uniform(0, 1)\n",
    "    elif index%4 == 1:\n",
    "        # for 25% of the data, Location bases likelyness to register will be medium\n",
    "        df_location_pref.LocationLikelyness.iloc[[index]] = 0.6 + 0.4 * np.random.uniform(0, 1)\n",
    "    elif index%4 == 2:\n",
    "        # for 25% of the data, Location bases likelyness to register will be low\n",
    "        df_location_pref.LocationLikelyness.iloc[[index]] = 0.4 + 0.6 * np.random.uniform(0, 1)\n",
    "    else:\n",
    "        # for 25% of the data, Location bases likelyness to register will be very low\n",
    "        df_location_pref.LocationLikelyness.iloc[[index]] = 0.2 + 0.8 * np.random.uniform(0, 1)"
   ]
  },
  {
   "cell_type": "markdown",
   "metadata": {},
   "source": [
    "### Create row for each individual"
   ]
  },
  {
   "cell_type": "code",
   "execution_count": 40,
   "metadata": {},
   "outputs": [],
   "source": [
    "# Create row for each individual under all locations\n",
    "for index, row in df_location_pref.iterrows():\n",
    "    for i in range(np.random.randint(min_ppl_in_Subdiv, max_ppl_in_Subdiv)):\n",
    "        df_persons = df_persons.append(df_location_pref.iloc[[index]], ignore_index=True)"
   ]
  },
  {
   "cell_type": "markdown",
   "metadata": {},
   "source": [
    "### Populate Name, Gender, Occupation and Age of each person"
   ]
  },
  {
   "cell_type": "code",
   "execution_count": 41,
   "metadata": {},
   "outputs": [
    {
     "name": "stderr",
     "output_type": "stream",
     "text": [
      "C:\\Users\\Sydney\\Anaconda3\\lib\\site-packages\\pandas\\core\\indexing.py:194: SettingWithCopyWarning: \n",
      "A value is trying to be set on a copy of a slice from a DataFrame\n",
      "\n",
      "See the caveats in the documentation: http://pandas.pydata.org/pandas-docs/stable/indexing.html#indexing-view-versus-copy\n",
      "  self._setitem_with_indexer(indexer, value)\n"
     ]
    }
   ],
   "source": [
    "# Populate intermediate dataframe\n",
    "for index, row in df_persons.iterrows():\n",
    "    \n",
    "    #Populate name of the person with 8 to 12 random characters\n",
    "    allchar = string.ascii_letters\n",
    "    df_persons.PersonName.iloc[[index]] = \"\".join(choice(allchar) for x in range(randint(min_char_in_name, max_char_in_name)))\n",
    "    \n",
    "    # Randomly populate Gendre with a probability of male or female = 50%\n",
    "    gender_rand = np.random.randint(2)\n",
    "    if gender_rand == 0:\n",
    "        df_persons.Gender.iloc[[index]] = \"Male\"\n",
    "        # for male persons to register there is a fixed probability of 40% and an uniform dist randomness of 60%\n",
    "        df_persons.GenderLikelyness.iloc[[index]] = (0.4 + 0.6 * np.random.uniform(0, 1))\n",
    "    else:\n",
    "        df_persons.Gender.iloc[[index]] = \"Female\"\n",
    "        # for female persons to register there is a fixed probability of 60% and an uniform dist randomness of 40%\n",
    "        df_persons.GenderLikelyness.iloc[[index]] = (0.6 + 0.4 * np.random.uniform(0, 1))\n",
    "\n",
    "    # Age of the entire population is a triangular distributio with low as 18, high as 67 and median at 30\n",
    "    age = round(np.random.triangular(18, 30, 67))\n",
    "    df_persons.Age.iloc[[index]] = age\n",
    "\n",
    "    if (age>=18 and age<=25):\n",
    "        # for persons up to 26 yrs age, to register, there is a fixed probability of 30% and an uniform dist randomness of 70%\n",
    "        df_persons.AgeLikelyness.iloc[[index]] = (0.3 + 0.7 * np.random.uniform(0, 1))\n",
    "    elif (age>25 and age<=40):\n",
    "        # for persons of 25 to 39 yrs age, to register, there is a fixed probability of 70% and an uniform dist randomness of 30%\n",
    "        df_persons.AgeLikelyness.iloc[[index]] = (0.7 + 0.3 * np.random.uniform(0, 1))\n",
    "    elif (age>40 and age<=67):\n",
    "        # for persons of 25 to 39 yrs age, to register, there is a fixed probability of 70% and an uniform dist randomness of 30%\n",
    "        df_persons.AgeLikelyness.iloc[[index]] = (0.5 + 0.5 * np.random.uniform(0, 1))\n",
    "    else:\n",
    "        df_persons.AgeLikelyness.iloc[[index]] = 0\n",
    "\n",
    "    # Assign occupation and occupation based likelyhood of each individual to join SSY\n",
    "    occupn_rand = np.random.randn()\n",
    "    if occupn_rand > 0.75:\n",
    "        df_persons.WorkerType.iloc[[index]] = 'Transport'\n",
    "        df_persons.WorkerTypeLikelyness.iloc[[index]] = (0.7 + 0.3 * np.random.uniform(0, 1))\n",
    "\n",
    "    elif occupn_rand < -0.75:\n",
    "        df_persons.WorkerType.iloc[[index]] = 'Construction'\n",
    "        df_persons.WorkerTypeLikelyness.iloc[[index]] = (0.6 + 0.4 * np.random.uniform(0, 1))\n",
    "    else:\n",
    "        df_persons.WorkerType.iloc[[index]] = 'Other'\n",
    "        df_persons.WorkerTypeLikelyness.iloc[[index]] = (0.4 + 0.6 * np.random.uniform(0, 1))\n"
   ]
  },
  {
   "cell_type": "code",
   "execution_count": 42,
   "metadata": {},
   "outputs": [
    {
     "name": "stderr",
     "output_type": "stream",
     "text": [
      "C:\\Users\\Sydney\\Anaconda3\\lib\\site-packages\\pandas\\core\\indexing.py:194: SettingWithCopyWarning: \n",
      "A value is trying to be set on a copy of a slice from a DataFrame\n",
      "\n",
      "See the caveats in the documentation: http://pandas.pydata.org/pandas-docs/stable/indexing.html#indexing-view-versus-copy\n",
      "  self._setitem_with_indexer(indexer, value)\n"
     ]
    }
   ],
   "source": [
    "for index, row in df_persons.iterrows():\n",
    "    \n",
    "    # final likelyhood to register will be a product of location based, age related, occupation based and gender based likelyhoods\n",
    "    df_persons.Likelyness.iloc[[index]] = df_persons.LocationLikelyness.iloc[[index]] * df_persons.AgeLikelyness.iloc[[index]] * df_persons.GenderLikelyness.iloc[[index]] * df_persons.WorkerTypeLikelyness.iloc[[index]]"
   ]
  },
  {
   "cell_type": "markdown",
   "metadata": {},
   "source": [
    "# Calculate final likelyhood of registering\n",
    "### The AI has to learn this pattern through the training cycles\n",
    "### Also find if the person was registered in the previous years"
   ]
  },
  {
   "cell_type": "code",
   "execution_count": 45,
   "metadata": {},
   "outputs": [
    {
     "name": "stderr",
     "output_type": "stream",
     "text": [
      "C:\\Users\\Sydney\\Anaconda3\\lib\\site-packages\\pandas\\core\\indexing.py:194: SettingWithCopyWarning: \n",
      "A value is trying to be set on a copy of a slice from a DataFrame\n",
      "\n",
      "See the caveats in the documentation: http://pandas.pydata.org/pandas-docs/stable/indexing.html#indexing-view-versus-copy\n",
      "  self._setitem_with_indexer(indexer, value)\n"
     ]
    }
   ],
   "source": [
    "for index, row in df_persons.iterrows():\n",
    "    \n",
    "    age = df_persons.Age.iloc[index]\n",
    "    \n",
    "    \n",
    "    # Year - 2018: If final likelyhood is > 25%, we consider the person will be registered for 2018\n",
    "    if df_persons.Likelyness.iloc[index] > 0.25:\n",
    "        df_persons.RegisteredYesNo.iloc[index] = 'Yes'\n",
    "    else:\n",
    "        df_persons.RegisteredYesNo.iloc[index] = 'No'\n",
    "\n",
    "    # Prune retired age\n",
    "    if age > 65:\n",
    "        df_persons.RegisteredYesNo.iloc[index] = 'No'\n",
    "        \n",
    "        \n",
    "    # Year - 2017: 75% likelyhood of all persons currently registered were registered in 2017\n",
    "    if df_persons.RegisteredYesNo.iloc[index] == 'Yes':\n",
    "        if (np.random.uniform(0, 1)) < 0.75:\n",
    "            df_persons.Registered2017.iloc[index] = 'Yes'\n",
    "        else:\n",
    "            df_persons.Registered2017.iloc[index] = 'No'\n",
    "    # 5% likelyhood of all persons currently not registered were registered in 2017\n",
    "    else:\n",
    "        if (np.random.uniform(0, 1)) > 0.05:\n",
    "            df_persons.Registered2017.iloc[index] = 'No'\n",
    "        else:\n",
    "            df_persons.Registered2017.iloc[index] = 'Yes'            \n",
    "\n",
    "    # Prune retired age and under age\n",
    "    if age>66 and age<19:\n",
    "        df_persons.Registered2017.iloc[index] = 'No'\n",
    "\n",
    "\n",
    "    # Year - 2016: 75% likelyhood of all persons registered in 2017 were registered in 2016\n",
    "    if df_persons.Registered2017.iloc[index] == 'Yes':\n",
    "        if (np.random.uniform(0, 1)) < 0.75:\n",
    "            df_persons.Registered2016.iloc[index] = 'Yes'\n",
    "        else:\n",
    "            df_persons.Registered2016.iloc[index] = 'No'\n",
    "    # 5% likelyhood of all persons currently not registered were registered in 2017\n",
    "    else:\n",
    "        if (np.random.uniform(0, 1)) > 0.05:\n",
    "            df_persons.Registered2016.iloc[index] = 'No'\n",
    "        else:\n",
    "            df_persons.Registered2016.iloc[index] = 'Yes'            \n",
    "\n",
    "    # Prune under age\n",
    "    if age<20:\n",
    "        df_persons.Registered2016.iloc[index] = 'No'\n"
   ]
  },
  {
   "cell_type": "markdown",
   "metadata": {},
   "source": [
    "# Publish final dataset\n",
    "## Print data output in csv file"
   ]
  },
  {
   "cell_type": "code",
   "execution_count": 46,
   "metadata": {},
   "outputs": [],
   "source": [
    "# create final dataset\n",
    "df_final = df_persons[['DistCode', 'District', 'Subdivision', 'PersonName', 'Gender', 'Age', 'WorkerType', 'RegisteredYesNo',\n",
    "                          'Registered2017', 'Registered2016']]"
   ]
  },
  {
   "cell_type": "code",
   "execution_count": 47,
   "metadata": {},
   "outputs": [
    {
     "data": {
      "text/html": [
       "<div>\n",
       "<style scoped>\n",
       "    .dataframe tbody tr th:only-of-type {\n",
       "        vertical-align: middle;\n",
       "    }\n",
       "\n",
       "    .dataframe tbody tr th {\n",
       "        vertical-align: top;\n",
       "    }\n",
       "\n",
       "    .dataframe thead th {\n",
       "        text-align: right;\n",
       "    }\n",
       "</style>\n",
       "<table border=\"1\" class=\"dataframe\">\n",
       "  <thead>\n",
       "    <tr style=\"text-align: right;\">\n",
       "      <th></th>\n",
       "      <th>DistCode</th>\n",
       "      <th>District</th>\n",
       "      <th>Subdivision</th>\n",
       "      <th>PersonName</th>\n",
       "      <th>Gender</th>\n",
       "      <th>Age</th>\n",
       "      <th>WorkerType</th>\n",
       "      <th>RegisteredYesNo</th>\n",
       "      <th>Registered2017</th>\n",
       "      <th>Registered2016</th>\n",
       "    </tr>\n",
       "  </thead>\n",
       "  <tbody>\n",
       "    <tr>\n",
       "      <th>0</th>\n",
       "      <td>AD</td>\n",
       "      <td>Alipurduar</td>\n",
       "      <td>Alipurduar</td>\n",
       "      <td>rDFa</td>\n",
       "      <td>Male</td>\n",
       "      <td>35</td>\n",
       "      <td>Other</td>\n",
       "      <td>Yes</td>\n",
       "      <td>Yes</td>\n",
       "      <td>Yes</td>\n",
       "    </tr>\n",
       "    <tr>\n",
       "      <th>1</th>\n",
       "      <td>AD</td>\n",
       "      <td>Alipurduar</td>\n",
       "      <td>Alipurduar</td>\n",
       "      <td>hbbfH</td>\n",
       "      <td>Male</td>\n",
       "      <td>49</td>\n",
       "      <td>Construction</td>\n",
       "      <td>Yes</td>\n",
       "      <td>Yes</td>\n",
       "      <td>Yes</td>\n",
       "    </tr>\n",
       "    <tr>\n",
       "      <th>2</th>\n",
       "      <td>AD</td>\n",
       "      <td>Alipurduar</td>\n",
       "      <td>Alipurduar</td>\n",
       "      <td>vXgEfn</td>\n",
       "      <td>Female</td>\n",
       "      <td>50</td>\n",
       "      <td>Other</td>\n",
       "      <td>Yes</td>\n",
       "      <td>Yes</td>\n",
       "      <td>Yes</td>\n",
       "    </tr>\n",
       "    <tr>\n",
       "      <th>3</th>\n",
       "      <td>BN</td>\n",
       "      <td>Bankura</td>\n",
       "      <td>Bankura Sadar</td>\n",
       "      <td>VtXVYH</td>\n",
       "      <td>Male</td>\n",
       "      <td>43</td>\n",
       "      <td>Construction</td>\n",
       "      <td>Yes</td>\n",
       "      <td>Yes</td>\n",
       "      <td>No</td>\n",
       "    </tr>\n",
       "    <tr>\n",
       "      <th>4</th>\n",
       "      <td>BN</td>\n",
       "      <td>Bankura</td>\n",
       "      <td>Bankura Sadar</td>\n",
       "      <td>airxsT</td>\n",
       "      <td>Female</td>\n",
       "      <td>45</td>\n",
       "      <td>Transport</td>\n",
       "      <td>Yes</td>\n",
       "      <td>No</td>\n",
       "      <td>No</td>\n",
       "    </tr>\n",
       "  </tbody>\n",
       "</table>\n",
       "</div>"
      ],
      "text/plain": [
       "  DistCode    District    Subdivision PersonName  Gender  Age    WorkerType  \\\n",
       "0       AD  Alipurduar     Alipurduar       rDFa    Male   35         Other   \n",
       "1       AD  Alipurduar     Alipurduar      hbbfH    Male   49  Construction   \n",
       "2       AD  Alipurduar     Alipurduar     vXgEfn  Female   50         Other   \n",
       "3       BN     Bankura  Bankura Sadar     VtXVYH    Male   43  Construction   \n",
       "4       BN     Bankura  Bankura Sadar     airxsT  Female   45     Transport   \n",
       "\n",
       "  RegisteredYesNo Registered2017 Registered2016  \n",
       "0             Yes            Yes            Yes  \n",
       "1             Yes            Yes            Yes  \n",
       "2             Yes            Yes            Yes  \n",
       "3             Yes            Yes             No  \n",
       "4             Yes             No             No  "
      ]
     },
     "execution_count": 47,
     "metadata": {},
     "output_type": "execute_result"
    }
   ],
   "source": [
    "df_final.head()"
   ]
  },
  {
   "cell_type": "code",
   "execution_count": null,
   "metadata": {},
   "outputs": [],
   "source": [
    "# publish final dataset into output csv file\n",
    "df_final.to_csv('SubdivisionPersons.csv')\n",
    " \n",
    "print(\"writing complete!\")"
   ]
  },
  {
   "cell_type": "markdown",
   "metadata": {},
   "source": [
    "#### ---------------------------------------------------------------------------------------------------------------\n",
    "#### || FluxionBits | SSY Analytics | 14-Aug-2018 | Anirban Chakrabarty ||\n",
    "#### ---------------------------------------------------------------------------------------------------------------\n",
    "#### Disclaimer:\n",
    "This computer program is proprietary and confidential to FluxionBits.com. This is being used for marketing purposes to the Dept. of Planning, West Bengal Govt. only. Any illegal usage of this data or program in any form is punishable under the Indian Information Technology Act, 2000 and Copyright Act, 1957.\n",
    "\n",
    "This uses computer simulation and public domain data and is completely free from any data infringement.\n",
    "#### ---------------------------------------------------------------------------------------------------------------"
   ]
  },
  {
   "cell_type": "code",
   "execution_count": null,
   "metadata": {},
   "outputs": [],
   "source": []
  }
 ],
 "metadata": {
  "kernelspec": {
   "display_name": "Python 3",
   "language": "python",
   "name": "python3"
  },
  "language_info": {
   "codemirror_mode": {
    "name": "ipython",
    "version": 3
   },
   "file_extension": ".py",
   "mimetype": "text/x-python",
   "name": "python",
   "nbconvert_exporter": "python",
   "pygments_lexer": "ipython3",
   "version": "3.6.4"
  }
 },
 "nbformat": 4,
 "nbformat_minor": 2
}
